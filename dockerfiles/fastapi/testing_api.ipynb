{
 "cells": [
  {
   "cell_type": "markdown",
   "metadata": {},
   "source": [
    "#### Librerias:"
   ]
  },
  {
   "cell_type": "code",
   "execution_count": 1,
   "metadata": {},
   "outputs": [],
   "source": [
    "import requests"
   ]
  },
  {
   "cell_type": "markdown",
   "metadata": {},
   "source": [
    "#### Testeo\n"
   ]
  },
  {
   "cell_type": "code",
   "execution_count": 15,
   "metadata": {},
   "outputs": [
    {
     "data": {
      "text/plain": [
       "<Response [200]>"
      ]
     },
     "execution_count": 15,
     "metadata": {},
     "output_type": "execute_result"
    }
   ],
   "source": [
    "endpoint_model = \"http://localhost:8000/predict/\"\n",
    "\n",
    "data = {\n",
    "    \"Cloud3pm\": 7,\n",
    "    \"Cloud9am\": 7,\n",
    "    \"Day\": 29,\n",
    "    \"Evaporation\": 4.8,\n",
    "    \"Humidity3pm\": 78,\n",
    "    \"Humidity9am\": 88,\n",
    "    \"Location\": \"NorfolkIsland\",\n",
    "    \"MaxTemp\": 27,\n",
    "    \"MinTemp\": 22.6,\n",
    "    \"Month\": 2,\n",
    "    \"Pressure3pm\": 1014.2,\n",
    "    \"Pressure9am\": 1015.8,\n",
    "    \"RainToday\": \"No\",\n",
    "    \"Rainfall\": 1,\n",
    "    \"Sunshine\": 4.6,\n",
    "    \"Temp3pm\": 25.6,\n",
    "    \"Temp9am\": 24.6,\n",
    "    \"WindDir3pm\": \"W\",\n",
    "    \"WindDir9am\": \"N\",\n",
    "    \"WindGustDir\": \"N\",\n",
    "    \"WindGustSpeed\": 44,\n",
    "    \"WindSpeed3pm\": 13,\n",
    "    \"WindSpeed9am\": 20,\n",
    "    \"Year\": 2016\n",
    "}\n",
    "\n",
    "response = requests.post(endpoint_model, json=data)\n",
    "response"
   ]
  },
  {
   "cell_type": "code",
   "execution_count": 16,
   "metadata": {},
   "outputs": [
    {
     "data": {
      "text/plain": [
       "'OK'"
      ]
     },
     "execution_count": 16,
     "metadata": {},
     "output_type": "execute_result"
    }
   ],
   "source": [
    "response.reason"
   ]
  },
  {
   "cell_type": "code",
   "execution_count": 17,
   "metadata": {},
   "outputs": [
    {
     "data": {
      "text/plain": [
       "{'¿Va a llover mañana?': 'Yes'}"
      ]
     },
     "execution_count": 17,
     "metadata": {},
     "output_type": "execute_result"
    }
   ],
   "source": [
    "response.json()"
   ]
  }
 ],
 "metadata": {
  "kernelspec": {
   "display_name": "am2",
   "language": "python",
   "name": "python3"
  },
  "language_info": {
   "codemirror_mode": {
    "name": "ipython",
    "version": 3
   },
   "file_extension": ".py",
   "mimetype": "text/x-python",
   "name": "python",
   "nbconvert_exporter": "python",
   "pygments_lexer": "ipython3",
   "version": "3.10.9"
  }
 },
 "nbformat": 4,
 "nbformat_minor": 2
}
